{
  "nbformat": 4,
  "nbformat_minor": 0,
  "metadata": {
    "colab": {
      "name": "Eigen Value parallel cuda.ipynb",
      "provenance": [],
      "collapsed_sections": [],
      "toc_visible": true
    },
    "kernelspec": {
      "name": "python3",
      "display_name": "Python 3"
    },
    "accelerator": "GPU"
  },
  "cells": [
    {
      "cell_type": "markdown",
      "metadata": {
        "id": "DSwQRjhAMbUT"
      },
      "source": [
        "# Eigen Value Serial and Parallel code comparison\n",
        "\n",
        "There are two ways to execute the code.\n",
        "\n",
        "1.   Paste cuda code directly in colab to run\n",
        "2.   Execute .cu file via commands\n",
        "\n",
        "If your running on a hosted python notebook upload the files in the repository to the runtime."
      ]
    },
    {
      "cell_type": "markdown",
      "metadata": {
        "id": "hXHN4k-MM0nN"
      },
      "source": [
        "## 1. Paste cuda code directly in colab to run\n",
        "\n",
        "```\n",
        "%%cu\n",
        "<Paste .cu code here>\n",
        "```"
      ]
    },
    {
      "cell_type": "code",
      "metadata": {
        "id": "NdcbsehjxmUd",
        "outputId": "9adcc610-dbfa-4fbf-a53b-e22844d41a75",
        "colab": {
          "base_uri": "https://localhost:8080/"
        }
      },
      "source": [
        "!nvcc --version\n",
        "!nvidia-smi -L\n",
        "!lscpu | grep \"Model name\""
      ],
      "execution_count": 1,
      "outputs": [
        {
          "output_type": "stream",
          "text": [
            "nvcc: NVIDIA (R) Cuda compiler driver\n",
            "Copyright (c) 2005-2019 NVIDIA Corporation\n",
            "Built on Sun_Jul_28_19:07:16_PDT_2019\n",
            "Cuda compilation tools, release 10.1, V10.1.243\n",
            "GPU 0: Tesla T4 (UUID: GPU-0c701f3a-1967-fe98-fdc3-f366f036c046)\n",
            "Model name:          Intel(R) Xeon(R) CPU @ 2.20GHz\n"
          ],
          "name": "stdout"
        }
      ]
    },
    {
      "cell_type": "code",
      "metadata": {
        "id": "S2PnmXjzxpax",
        "outputId": "a13c1bf4-7803-48ce-c9b5-0736dad05389",
        "colab": {
          "base_uri": "https://localhost:8080/"
        }
      },
      "source": [
        "!pip install git+git://github.com/andreinechaev/nvcc4jupyter.git"
      ],
      "execution_count": 2,
      "outputs": [
        {
          "output_type": "stream",
          "text": [
            "Collecting git+git://github.com/andreinechaev/nvcc4jupyter.git\n",
            "  Cloning git://github.com/andreinechaev/nvcc4jupyter.git to /tmp/pip-req-build-_4c_ak0z\n",
            "  Running command git clone -q git://github.com/andreinechaev/nvcc4jupyter.git /tmp/pip-req-build-_4c_ak0z\n",
            "Building wheels for collected packages: NVCCPlugin\n",
            "  Building wheel for NVCCPlugin (setup.py) ... \u001b[?25l\u001b[?25hdone\n",
            "  Created wheel for NVCCPlugin: filename=NVCCPlugin-0.0.2-cp36-none-any.whl size=4307 sha256=97ae2fccfb7133824bf33bfd1fca2410ed0a6536d0665e921359130a058bbadf\n",
            "  Stored in directory: /tmp/pip-ephem-wheel-cache-hnoezbzm/wheels/10/c2/05/ca241da37bff77d60d31a9174f988109c61ba989e4d4650516\n",
            "Successfully built NVCCPlugin\n",
            "Installing collected packages: NVCCPlugin\n",
            "Successfully installed NVCCPlugin-0.0.2\n"
          ],
          "name": "stdout"
        }
      ]
    },
    {
      "cell_type": "code",
      "metadata": {
        "id": "hfsFFJuKxvQe",
        "outputId": "b14c4bdf-ce41-438d-82df-3f87b93281e4",
        "colab": {
          "base_uri": "https://localhost:8080/"
        }
      },
      "source": [
        "%load_ext nvcc_plugin"
      ],
      "execution_count": 4,
      "outputs": [
        {
          "output_type": "stream",
          "text": [
            "The nvcc_plugin extension is already loaded. To reload it, use:\n",
            "  %reload_ext nvcc_plugin\n"
          ],
          "name": "stdout"
        }
      ]
    },
    {
      "cell_type": "code",
      "metadata": {
        "id": "0xYfvI6rNVAN",
        "outputId": "a3c4aa18-9df1-400f-8823-f49e4f4fe9b6",
        "colab": {
          "base_uri": "https://localhost:8080/"
        }
      },
      "source": [
        "#!unzip Jacobi_Eigen.zip"
      ],
      "execution_count": 6,
      "outputs": [
        {
          "output_type": "stream",
          "text": [
            "Archive:  Jacobi_Eigen.zip\n",
            "  inflating: data/eigenValues.dat    \n",
            "  inflating: data/eigenVectors.dat   \n",
            "  inflating: data/matrix.dat         \n",
            "  inflating: Jacobi_Eigen_Parallel   \n",
            "  inflating: Jacobi_Eigen_Parallel.cu  \n",
            "  inflating: Jacobi_serial_run.sh    \n",
            "  inflating: JacobiEigen_Serial/Jacobi_Eigen_Serial  \n",
            "  inflating: JacobiEigen_Serial/Jacobi_Eigen_Serial.cpp  \n",
            "  inflating: JacobiEigen_Serial/testMatrices.h  \n",
            "  inflating: JacobiEigen_Serial/utils.h  \n"
          ],
          "name": "stdout"
        }
      ]
    },
    {
      "cell_type": "code",
      "metadata": {
        "id": "Teub5jT1UR9p",
        "outputId": "3f9efb9f-78e5-4021-b44a-1caa31ae95ec",
        "colab": {
          "base_uri": "https://localhost:8080/"
        }
      },
      "source": [
        "%%cu\n",
        "#include <fstream>\n",
        "#include <stdio.h> \n",
        "#include <iostream>\n",
        "\n",
        "const int num_mat = 1; // total number of matrices = total number of threads const \n",
        "const int N = 20; // square symmetric matrix dimension\n",
        "const int nTPB = 256; // threads per block\n",
        "\n",
        "// test symmetric matrices \n",
        "\n",
        "double a1[N*N];\n",
        "\n",
        "/* ---------------------------------------------------------------*/\n",
        "//****************************************************************************80\n",
        "//(n, a, d)\n",
        "__host__ __device__\n",
        "void r8mat_diag_get_vector(int n, double a[], double v[])\n",
        "//****************************************************************************80\n",
        "{\n",
        "  int i;\n",
        "  for (i = 0; i < n; i++) {\n",
        "    v[i] = a[i + i * n];\n",
        "  }\n",
        "\n",
        "  return;\n",
        "}\n",
        "__host__ __device__\n",
        "void r8mat_identity(int n, double a[]) {\n",
        "  int i;\n",
        "  int j;\n",
        "  int k;\n",
        "  k = 0;\n",
        "  for (j = 0; j < n; j++) {\n",
        "    for (i = 0; i < n; i++) {\n",
        "      if (i == j) {\n",
        "        a[k] = 1.0;\n",
        "      } else {\n",
        "        a[k] = 0.0;\n",
        "      }\n",
        "      k = k + 1;\n",
        "    }\n",
        "  }\n",
        "  return;\n",
        "}\n",
        "//****************************************************************************80\n",
        "\n",
        "//(n, a + (idx * n * n), it_max, v + (idx * n * n), d + (idx * n), it_num, rot_num)\n",
        "__host__ __device__\n",
        "void jacobi_eigenvalue(int n, double a[], int it_max, double v[], double d[], int &it_num, int &rot_num) {\n",
        "  double * bw;\n",
        "  double c;\n",
        "  double g;\n",
        "  double gapq;\n",
        "  double h;\n",
        "  int i;\n",
        "  int j;\n",
        "  int k;\n",
        "  int l;\n",
        "  int m;\n",
        "  int p;\n",
        "  int q;\n",
        "  double s;\n",
        "  double t;\n",
        "  double tau;\n",
        "  double term;\n",
        "  double termp;\n",
        "  double termq;\n",
        "  double theta;\n",
        "  double thresh;\n",
        "  double w;\n",
        "  double * zw;\n",
        "  r8mat_identity(n, v);\n",
        "  r8mat_diag_get_vector(n, a, d);\n",
        "  bw = new double[n];\n",
        "  zw = new double[n];\n",
        "  for (i = 0; i < n; i++) {\n",
        "\n",
        "    bw[i] = d[i];\n",
        "    zw[i] = 0.0;\n",
        "  }\n",
        "  it_num = 0;\n",
        "  rot_num = 0;\n",
        "  while (it_num < it_max) {\n",
        "    it_num = it_num + 1;\n",
        "    //\n",
        "    // The convergence threshold is based on the size of the elements in\n",
        "    // the strict upper triangle of the matrix.\n",
        "    //\n",
        "    thresh = 0.0;\n",
        "    for (j = 0; j < n; j++) {\n",
        "      for (i = 0; i < j; i++) {\n",
        "        thresh = thresh + a[i + j * n] * a[i + j * n];\n",
        "      }\n",
        "    }\n",
        "    thresh = sqrt(thresh) / (double)(4 * n);\n",
        "    if (thresh == 0.0) {\n",
        "      break;\n",
        "    }\n",
        "    for (p = 0; p < n; p++) {\n",
        "      for (q = p + 1; q < n; q++) {\n",
        "        gapq = 10.0 * fabs(a[p + q * n]);\n",
        "        termp = gapq + fabs(d[p]);\n",
        "        termq = gapq + fabs(d[q]);\n",
        "        //\n",
        "        // Annihilate tiny offdiagonal elements.\n",
        "        //\n",
        "        if (4 < it_num &&\n",
        "          termp == fabs(d[p]) && termq == fabs(d[q])) {\n",
        "          a[p + q * n] = 0.0;\n",
        "\n",
        "        }\n",
        "        //\n",
        "        // Otherwise, apply a rotation.\n",
        "        //\n",
        "        else if (thresh <= fabs(a[p + q * n])) {\n",
        "          h = d[q] - d[p];\n",
        "          term = fabs(h) + gapq;\n",
        "          if (term == fabs(h)) {\n",
        "            t = a[p + q * n] / h;\n",
        "          } else {\n",
        "            theta = 0.5 * h / a[p + q * n];\n",
        "            t = 1.0 / (fabs(theta) + sqrt(1.0 + theta * theta));\n",
        "            if (theta < 0.0) {\n",
        "              t = -t;\n",
        "            }\n",
        "          }\n",
        "          c = 1.0 / sqrt(1.0 + t * t);\n",
        "          s = t * c;\n",
        "          tau = s / (1.0 + c);\n",
        "          h = t * a[p + q * n];\n",
        "          //\n",
        "          // Accumulate corrections to diagonal elements.\n",
        "          //\n",
        "          zw[p] = zw[p] - h;\n",
        "          zw[q] = zw[q] + h;\n",
        "          d[p] = d[p] - h;\n",
        "          d[q] = d[q] + h;\n",
        "          a[p + q * n] = 0.0;\n",
        "          //\n",
        "          // Rotate, using information from the upper triangle of A only.\n",
        "          //\n",
        "          for (j = 0; j < p; j++) {\n",
        "            g = a[j + p * n];\n",
        "            h = a[j + q * n];\n",
        "            a[j + p * n] = g - s * (h + g * tau);\n",
        "            a[j + q * n] = h + s * (g - h * tau);\n",
        "          }\n",
        "\n",
        "          for (j = p + 1; j < q; j++) {\n",
        "            g = a[p + j * n];\n",
        "            h = a[j + q * n];\n",
        "            a[p + j * n] = g - s * (h + g * tau);\n",
        "            a[j + q * n] = h + s * (g - h * tau);\n",
        "          }\n",
        "          for (j = q + 1; j < n; j++) {\n",
        "            g = a[p + j * n];\n",
        "            h = a[q + j * n];\n",
        "            a[p + j * n] = g - s * (h + g * tau);\n",
        "            a[q + j * n] = h + s * (g - h * tau);\n",
        "          }\n",
        "          //\n",
        "          // Accumulate information in the eigenvector matrix.\n",
        "          //\n",
        "          for (j = 0; j < n; j++) {\n",
        "            g = v[j + p * n];\n",
        "            h = v[j + q * n];\n",
        "            v[j + p * n] = g - s * (h + g * tau);\n",
        "            v[j + q * n] = h + s * (g - h * tau);\n",
        "          }\n",
        "          rot_num = rot_num + 1;\n",
        "        }\n",
        "      }\n",
        "    }\n",
        "    for (i = 0; i < n; i++) {\n",
        "      bw[i] = bw[i] + zw[i];\n",
        "      d[i] = bw[i];\n",
        "      zw[i] = 0.0;\n",
        "    }\n",
        "  }\n",
        "  //\n",
        "  // Restore upper triangle of input matrix.\n",
        "  //\n",
        "  for (j = 0; j < n; j++) {\n",
        "    for (i = 0; i < j; i++) {\n",
        "      a[i + j * n] = a[j + i * n];\n",
        "    }\n",
        "  }\n",
        "\n",
        "  //\n",
        "  // Ascending sort the eigenvalues and eigenvectors.\n",
        "  //\n",
        "  for (k = 0; k < n - 1; k++) {\n",
        "    m = k;\n",
        "    for (l = k + 1; l < n; l++) {\n",
        "      if (d[l] < d[m]) {\n",
        "        m = l;\n",
        "      }\n",
        "    }\n",
        "    if (m != k) {\n",
        "      t = d[m];\n",
        "      d[m] = d[k];\n",
        "      d[k] = t;\n",
        "      for (i = 0; i < n; i++) {\n",
        "        w = v[i + m * n];\n",
        "        v[i + m * n] = v[i + k * n];\n",
        "        v[i + k * n] = w;\n",
        "      }\n",
        "    }\n",
        "  }\n",
        "  delete[] bw;\n",
        "  delete[] zw;\n",
        "  return;\n",
        "}\n",
        "\n",
        "// end of FSU code\n",
        "/* ---------------------------------------------------------------- */\n",
        "\n",
        "//(num_mat, N,d_a, max_iter, d_v, d_d)\n",
        "__global__ void je(int num_matr, int n, double *a, int it_max, double *v, double *d) {\n",
        "  int idx = threadIdx.x + blockDim.x * blockIdx.x;\n",
        "  int it_num;\n",
        "  int rot_num;\n",
        "  if (idx < num_matr) {\n",
        "    jacobi_eigenvalue(n, a + (idx * n * n), it_max, v + (idx * n * n), d + (idx * n), it_num, rot_num);\n",
        "  }\n",
        "}\n",
        "\n",
        "//(0, N, a1, h_a)\n",
        "void initialize_matrix(int mat_id, int n, double * mat, double * v) {\n",
        "  for (int i = 0; i < n * n; i++) * (v + (mat_id * n * n) + i) = mat[i];\n",
        "}\n",
        "void print_vec(int vec_id, int n, double * d) {\n",
        "  std::cout << \"matrix \" << vec_id << \" Diagonal Values: \" << std::endl;\n",
        "  std::cout.precision(12);\n",
        "  for (int i = 0; i < n; i++) std::cout << i << \": \" << * (d + (n * vec_id) + i) << std::endl;\n",
        "  std::cout << std::endl;\n",
        "}\n",
        "int main() {\n",
        "  // make sure device heap has enough space for in-kernel new allocations \n",
        "  const int heapsize = num_mat * N * sizeof(double) * 2;\n",
        "  const int chunks = heapsize / (8192 * 1024) + 1;\n",
        "  cudaError_t cudaStatus = cudaDeviceSetLimit(cudaLimitMallocHeapSize, (8192 * 1024) * chunks);\n",
        "  if (cudaStatus != cudaSuccess) {\n",
        "    fprintf(stderr, \"set device heap limit failed!\");\n",
        "  }\n",
        "\n",
        "\n",
        "  //reading matrix from file matrix.dat\n",
        "  std::ifstream in;\n",
        "  in.open(\"data/matrix.dat\");\n",
        "\tif (!in)\n",
        "\t{\n",
        "\t\tstd::cerr << \"Unable to open file containing matrix. It should have the name matrix.dat. It should be present inside the data folder\" << std::endl;\n",
        "\t\texit(1);\n",
        "\t}\n",
        "\telse\n",
        "\t{\n",
        "\t\tfor (int i = 0; i < N*N; i++)\n",
        "\t\t{\n",
        "\t\t\tin >> a1[i];\n",
        "\t\t}\n",
        " \t  in.close();\n",
        "  }\n",
        "\n",
        "  const int max_iter = 1000;\n",
        "  double *h_a, *d_a, *h_v, *d_v, *h_d, *d_d;\n",
        "\n",
        "  //initialize_matrix\n",
        "  h_a = (double * ) malloc(num_mat * N * N * sizeof(double));\n",
        "  h_v = (double *) malloc(num_mat * N * N * sizeof(double));\n",
        "  h_d = (double * ) malloc(num_mat * N * sizeof(double));\n",
        "\n",
        "  //Allocating mem in GPU\n",
        "  cudaMalloc( & d_a, num_mat * N * N * sizeof(double));\n",
        "  cudaMalloc( & d_v, num_mat * N * N * sizeof(double));\n",
        "  cudaMalloc( & d_d, num_mat * N * sizeof(double));\n",
        "\n",
        "  //sets all the bytes to a specific value (0)\n",
        "  memset(h_a, 0, num_mat * N * N * sizeof(double));\n",
        "  memset(h_v, 0, num_mat * N * N * sizeof(double));\n",
        "  memset(h_d, 0, num_mat * N * sizeof(double));\n",
        "\n",
        "  for(int i = 0; i< num_mat ; i++)\n",
        "  initialize_matrix(i, N, a1, h_a);\n",
        "\n",
        "  //initialize_matrix(1, N, a2, h_a);\n",
        "  //initialize_matrix(2, N, a3, h_a);\n",
        "\n",
        "  //copys variable to GPU\n",
        "  cudaMemcpy(d_a, h_a, num_mat * N * N * sizeof(double), cudaMemcpyHostToDevice);\n",
        "  cudaMemcpy(d_v,h_v, num_mat * N * N * sizeof(double), cudaMemcpyHostToDevice);\n",
        "  cudaMemcpy(d_d, h_d, num_mat *N * sizeof(double), cudaMemcpyHostToDevice);\n",
        "\n",
        "\n",
        "  clock_t cpu_startTime, cpu_endTime;\n",
        "  double cpu_ElapseTime=0;\n",
        "  cpu_startTime = clock();\n",
        "\n",
        "  //Launches Kernel\n",
        "  //<<<N/BLOCK_SIZE,BLOCK_SIZE>>>\n",
        "  je << < (num_mat + nTPB - 1) / nTPB, nTPB >>> (num_mat, N,d_a, max_iter, d_v, d_d);\n",
        "\n",
        "  cpu_endTime = clock();\n",
        "  cpu_ElapseTime = ((cpu_endTime - cpu_startTime)/(double)CLOCKS_PER_SEC);\n",
        "  std::cout << \"CPU Elapsed time: \" <<cpu_ElapseTime<<\"s\\n\";\n",
        "\n",
        "\n",
        "  //Copy back to CPU\n",
        "  cudaMemcpy(h_d, d_d, num_mat * N * sizeof(double), cudaMemcpyDeviceToHost);\n",
        "\n",
        "\n",
        "  //for(int i = 0; i< num_mat ; i++)\n",
        "  //  print_vec(i, N, h_d);\n",
        "\n",
        "  print_vec(0, N, h_d);\n",
        "  //print_vec(2, N, h_d);\n",
        "\n",
        "  return 0;\n",
        "}"
      ],
      "execution_count": 7,
      "outputs": [
        {
          "output_type": "stream",
          "text": [
            "CPU Elapsed time: 0.000141s\n",
            "matrix 0 Diagonal Values: \n",
            "0: -19.6210363083\n",
            "1: -15.4706012068\n",
            "2: -14.551543528\n",
            "3: -9.92445127949\n",
            "4: -9.23957205651\n",
            "5: -8.5009620366\n",
            "6: -4.22417814048\n",
            "7: -3.05481075577\n",
            "8: -0.778180509097\n",
            "9: -0.574558603969\n",
            "10: 2.28460733269\n",
            "11: 2.90119749\n",
            "12: 4.04045846922\n",
            "13: 6.8042720621\n",
            "14: 11.5708652454\n",
            "15: 12.3955467015\n",
            "16: 13.5322376081\n",
            "17: 15.9642349456\n",
            "18: 17.4585507174\n",
            "19: 88.4526138531\n",
            "\n",
            "\n"
          ],
          "name": "stdout"
        }
      ]
    },
    {
      "cell_type": "code",
      "metadata": {
        "id": "sYQJpkn8OQ2-",
        "outputId": "2bf24cb7-9af3-4675-9ade-21009e3f1e2f",
        "colab": {
          "base_uri": "https://localhost:8080/"
        }
      },
      "source": [
        "%%script bash\n",
        "\n",
        "for i in {1}; do \n",
        "g++ JacobiEigen_Serial/Jacobi_Eigen_Serial.cpp -o JacobiEigen_Serial/Jacobi_Eigen_Serial\n",
        "./JacobiEigen_Serial/Jacobi_Eigen_Serial 20 0 real; done"
      ],
      "execution_count": 8,
      "outputs": [
        {
          "output_type": "stream",
          "text": [
            "CPU Elapsed time: 0.000333s\n"
          ],
          "name": "stdout"
        }
      ]
    },
    {
      "cell_type": "markdown",
      "metadata": {
        "id": "nnSGMswXNOwZ"
      },
      "source": [
        "## 2. Execute .cu file via commands\n",
        "\n",
        "### On Terminal:\n",
        "```\n",
        "nvcc -o Jacobi_Eigen_Parallel Jacobi_Eigen_Parallel.cu\n",
        "cuda-memcheck ./Jacobi_Eigen_Parallel\n",
        "```\n",
        "\n",
        "### On Notebook:\n",
        "```\n",
        "!nvcc -o Jacobi_Eigen_Parallel Jacobi_Eigen_Parallel.cu\n",
        "!cuda-memcheck ./Jacobi_Eigen_Parallel\n",
        "```"
      ]
    },
    {
      "cell_type": "code",
      "metadata": {
        "id": "01P41E5ILzNi",
        "outputId": "fe2b1f24-c022-4a26-cc28-a8b3867fbac9",
        "colab": {
          "base_uri": "https://localhost:8080/"
        }
      },
      "source": [
        "!nvcc -o Jacobi_Eigen_Parallel Jacobi_Eigen_Parallel.cu\n",
        "!cuda-memcheck ./Jacobi_Eigen_Parallel"
      ],
      "execution_count": 9,
      "outputs": [
        {
          "output_type": "stream",
          "text": [
            "========= CUDA-MEMCHECK\n",
            "CPU Elapsed time: 0.034484s\n",
            "matrix 0 Diagonal Values: \n",
            "0: -19.6210363083\n",
            "1: -15.4706012068\n",
            "2: -14.551543528\n",
            "3: -9.92445127949\n",
            "4: -9.23957205651\n",
            "5: -8.5009620366\n",
            "6: -4.22417814048\n",
            "7: -3.05481075577\n",
            "8: -0.778180509097\n",
            "9: -0.574558603969\n",
            "10: 2.28460733269\n",
            "11: 2.90119749\n",
            "12: 4.04045846922\n",
            "13: 6.8042720621\n",
            "14: 11.5708652454\n",
            "15: 12.3955467015\n",
            "16: 13.5322376081\n",
            "17: 15.9642349456\n",
            "18: 17.4585507174\n",
            "19: 88.4526138531\n",
            "\n",
            "========= ERROR SUMMARY: 0 errors\n"
          ],
          "name": "stdout"
        }
      ]
    },
    {
      "cell_type": "code",
      "metadata": {
        "id": "INqhA0ChNzFw"
      },
      "source": [
        "#!unzip Jacobi_Eigen.zip"
      ],
      "execution_count": 10,
      "outputs": []
    },
    {
      "cell_type": "code",
      "metadata": {
        "id": "GuZqKGbxNmTc",
        "outputId": "0c094362-ae80-423e-83ba-4d6ede1e6e47",
        "colab": {
          "base_uri": "https://localhost:8080/"
        }
      },
      "source": [
        "%%script bash\n",
        "\n",
        "for i in {1}; do \n",
        "g++ JacobiEigen_Serial/Jacobi_Eigen_Serial.cpp -o JacobiEigen_Serial/Jacobi_Eigen_Serial\n",
        "./JacobiEigen_Serial/Jacobi_Eigen_Serial 20 0 real; done"
      ],
      "execution_count": 11,
      "outputs": [
        {
          "output_type": "stream",
          "text": [
            "CPU Elapsed time: 0.000318s\n"
          ],
          "name": "stdout"
        }
      ]
    },
    {
      "cell_type": "code",
      "metadata": {
        "id": "V-OV5AWXwY8-"
      },
      "source": [
        ""
      ],
      "execution_count": null,
      "outputs": []
    }
  ]
}